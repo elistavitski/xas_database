{
 "cells": [
  {
   "cell_type": "code",
   "execution_count": 1,
   "id": "15a75834",
   "metadata": {},
   "outputs": [],
   "source": [
    "#extract data by element from ISS mongo\n",
    "import h5py\n",
    "from pathlib import Path\n",
    "import databroker\n",
    "import sys\n",
    "import os\n",
    "import requests\n",
    "import numpy as np\n",
    "import pandas as pd\n",
    "import matplotlib.pyplot as plt\n",
    "from xas.file_io import load_binned_df_from_file\n",
    "\n",
    "plt.ion()\n",
    "\n",
    "db = databroker.Broker.named('iss')\n",
    "from xview.spectra_db.db_io import get_spectrum_catalog\n",
    "db_proc = get_spectrum_catalog()\n"
   ]
  },
  {
   "cell_type": "code",
   "execution_count": 3,
   "id": "1bec683e",
   "metadata": {},
   "outputs": [],
   "source": [
    "element = \"Mn\"\n",
    "results = db.v2.search({\"element\": element})"
   ]
  },
  {
   "cell_type": "code",
   "execution_count": 4,
   "id": "8ef287d2",
   "metadata": {},
   "outputs": [],
   "source": [
    "results_list = list(results)"
   ]
  },
  {
   "cell_type": "code",
   "execution_count": 4,
   "id": "37ba7c4a",
   "metadata": {},
   "outputs": [],
   "source": [
    "res = results_list[0]\n",
    "# db[res].start"
   ]
  },
  {
   "cell_type": "code",
   "execution_count": 5,
   "id": "00df7b9a",
   "metadata": {},
   "outputs": [
    {
     "name": "stderr",
     "output_type": "stream",
     "text": [
      "/opt/conda_envs/nsls2-collection-2021-2.2/lib/python3.7/site-packages/pandas/core/arraylike.py:364: RuntimeWarning: invalid value encountered in log\n",
      "  result = getattr(ufunc, method)(*inputs, **kwargs)\n"
     ]
    },
    {
     "name": "stdout",
     "output_type": "stream",
     "text": [
      "3ec5a8b4-300b-489b-9201-27c9e7d280d6 failed to load.\n",
      "The file /nsls2/xf08id/users/2021/3/309081/NMC_811_coating_Mn_rev3 0002.dat does not exist.\n",
      "eda5718a-6c54-4145-8e58-e47a02540f92 failed to load.\n",
      "The file /nsls2/xf08id/users/2021/2/307818/G1_Mn3O4 Mn_scan  0009.dat does not exist.\n",
      "da2d8e9b-a35f-45bb-abec-ffea51897f53 failed to load.\n",
      "The file /nsls2/xf08id/users/2021/2/307818/Insitu_MnO2_60_BD1 Mn_Scan 0034 0001-r0002.dat does not exist.\n",
      "4a180d4b-71e3-4089-94ac-5a11f9936051 failed to load.\n",
      "The file /nsls2/xf08id/users/2021/2/307818/Insitu_MnO2_60 Mn scan 0010 0003.dat does not exist.\n",
      "2b0c682e-0b6a-4c8f-8530-a3fa64cdadfa failed to load.\n",
      "The file /nsls2/xf08id/users/2021/2/308230/Co3MnO4 no potential Mn-K data2 0005.dat does not exist.\n",
      "b41d6330-7d00-4bfa-a094-fdf5f897093a failed to load.\n",
      "The file /nsls2/xf08id/users/2021/2/308281/5y P3_Mn pos 3 Mn  0010.dat does not exist.\n",
      "ad132a21-dedb-4f56-99d3-6cebd4e2a9f7 failed to load.\n",
      "The file /nsls2/xf08id/users/2021/2/308281/MnO2_2 standard 0001-r0002.dat does not exist.\n",
      "543e5d96-a87b-418d-8f77-681138a35387 failed to load.\n",
      "The file /nsls2/xf08id/users/2021/1/308190/1.2_Mn-After Mn-K kmax 16.0  0006.dat does not exist.\n",
      "7c2c5b0e-1628-4cb0-aa11-502d82c78c22 failed to load.\n",
      "The file /nsls2/xf08id/users/2020/1/305380/fdsg.dat does not exist.\n",
      "aec23a00-e00e-4e56-99f8-b468ff27aba8 failed to load.\n",
      "The file /nsls2/xf08id/users/2020/1/305380/fdsg.dat does not exist.\n",
      "15d1de68-6e11-4a4c-b128-9933049982c8 failed to load.\n",
      "The file /nsls2/xf08id/users/2019/3/304748/P3 Mn 0045 0004.dat does not exist.\n",
      "9753278a-02b2-4ad2-a17e-f921979e846b failed to load.\n",
      "The file /nsls2/xf08id/users/2019/3/304748/O2 Mn 0024 0003.dat does not exist.\n",
      "15a2a8ee-5a03-4a24-a106-ff79871b6bda failed to load.\n",
      "The file /nsls2/xf08id/users/2019/3/304755/MIL125_MnFeimpuritytest 0004.dat does not exist.\n",
      "b029d521-fb84-4cbe-84c1-d01f76fe46be failed to load.\n",
      "The file /nsls2/xf08id/users/2019/3/304755/MIL125_1Mn 0035.dat does not exist.\n",
      "a0e66392-6df7-4c9b-850a-45da7e3229ea failed to load.\n",
      "The file /nsls2/xf08id/users/2019/3/304651/asdfasdfs 0001.dat does not exist.\n",
      "e9df98eb-a844-406c-beb3-1adcefc5d3b2 failed to load.\n",
      "The file /nsls2/xf08id/users/2019/3/304651/asdfasdf 0001.dat does not exist.\n",
      "fe673370-4c3e-4abc-9762-9928e908b068 failed to load.\n",
      "The file /nsls2/xf08id/users/2019/3/304651/flyer-em 0001.dat does not exist.\n",
      "f8820c1d-bc87-4269-9e2e-1b675fdfc8d0 failed to load.\n",
      "The file /nsls2/xf08id/users/2019/3/304651/flyer-em 0001.dat does not exist.\n",
      "1f25d8aa-f3fe-420b-9322-aebe420f5cfe failed to load.\n",
      "The file /nsls2/xf08id/users/2019/3/304651/flyer-em.dat does not exist.\n",
      "ed240f41-ec23-4f37-bc70-426636555d97 failed to load.\n",
      "The file /nsls2/xf08id/users/2019/3/304651/flyer-em 0001.dat does not exist.\n",
      "938b3cc0-7b3a-4f45-ab7a-d7cc7d283d02 failed to load.\n",
      "The file /nsls2/xf08id/users/2019/3/304651/flyer-em.dat does not exist.\n",
      "7102d665-2a02-44eb-b38c-6be35fc6d3d3 failed to load.\n",
      "The file /nsls2/xf08id/users/2019/3/304651/flyer-em.dat does not exist.\n",
      "27459ba1-7aa5-4e19-b86b-6341b8eba287 failed to load.\n",
      "The file /nsls2/xf08id/users/2019/3/304651/flyer-em.dat does not exist.\n",
      "6f9baa47-0853-4c31-aaf4-392b1106aa52 failed to load.\n",
      "The file /nsls2/xf08id/users/2019/3/305168/A2 A2_Mn_c10  0003.dat does not exist.\n",
      "eb5fb961-86b5-4f34-bd2a-ac53bfff59a3 failed to load.\n",
      "The file /nsls2/xf08id/users/2019/2/304602/MnOx_26th_11_test2 0001-r0002.dat does not exist.\n",
      "ab6e0105-c74d-4d0a-9894-b702425c1d2f failed to load.\n",
      "The file /nsls2/xf08id/users/2019/2/304636/Mn test 0002.dat does not exist.\n",
      "7760856c-655f-42fa-9cf9-7b0115524ec9 failed to load.\n",
      "The file /nsls2/xf08id/users/2019/2/300050/Mn slit 1 0002.dat does not exist.\n",
      "19adfb2a-4e02-4d52-b312-0b5c2c0cfc3c failed to load.\n",
      "The file /nsls2/xf08id/users/2019/2/300050/Mn no slit 0002.dat does not exist.\n",
      "71dde023-8461-4b03-beed-7da33b0ae820 failed to load.\n",
      "The file /nsls2/xf08id/users/2019/2/304704/A9_test 0002.dat does not exist.\n",
      "7750cacd-f064-4306-8167-b8cb18d0a93c failed to load.\n",
      "The file /nsls2/xf08id/users/2019/2/304704/dfgh 0001.dat does not exist.\n",
      "79d39589-a276-4036-badb-71d76e6553ad failed to load.\n",
      "The file /nsls2/xf08id/users/2019/1/303182/BC-Mn-07 0004.dat does not exist.\n",
      "435e7ba1-60f3-4588-8d09-8f463ae6f182 failed to load.\n",
      "The file /nsls2/xf08id/users/2019/1/300007/Mn1 0005.dat does not exist.\n",
      "5cff8b97-c2ea-48e5-ad99-16dff66523b4 failed to load.\n",
      "The file /nsls2/xf08id/users/2019/1/304153/A13_C2_full_discharge Mn 0001 0002.dat does not exist.\n",
      "b6416ee0-910a-47cd-b227-43728e3918f5 failed to load.\n",
      "The file /nsls2/xf08id/users/2019/1/303160/DB185118_4_pouch Mn_edge 0028 0005.dat does not exist.\n",
      "5b3ac92b-3422-4b34-a2cb-0bf7fdf8cdd2 failed to load.\n",
      "The file /nsls2/xf08id/users/2019/1/303160/DB185153_1_pouch Mn_edge 0025 0004.dat does not exist.\n",
      "148126ba-4a9e-49aa-9b81-e6a4ccc433a6 failed to load.\n",
      "The file /nsls2/xf08id/users/2019/1/303160/DB185118_3_pouch Mn_edge 0024 0003.dat does not exist.\n",
      "ca9ddd32-7e4c-4389-aa33-f8ba50e229ac failed to load.\n",
      "The file /nsls2/xf08id/users/2019/1/303160/DB185118_4_pouch Mn_edge 0019 0006.dat does not exist.\n"
     ]
    }
   ],
   "source": [
    " with h5py.File(f'/nsls2/xf08id/Sandbox/database/{element}_data_Eli.h5', \"w\") as hfile:\n",
    "    result_unable_to_load = []\n",
    "    result_loaded = []\n",
    "    for i, result in enumerate(results_list):\n",
    "        try:\n",
    "            path = db[result].start['interp_filename']\n",
    "            uid = db[result].start['uid']\n",
    "            fn = Path(path)\n",
    "            filename = os.path.basename(path)\n",
    "            nfn = fn.with_suffix('.dat')\n",
    "            df, metadata = load_binned_df_from_file(nfn)\n",
    "\n",
    "            energy = df[\"energy\"]\n",
    "            ref = np.log(df[\"it\"] / df[\"ir\"])\n",
    "            trans = np.log(df[\"i0\"] / df[\"it\"])\n",
    "            fluo = (df[\"iff\"] / df[\"i0\"])\n",
    "            \n",
    "\n",
    "            hfile.create_group(str(i))\n",
    "            hfile.create_dataset(f\"{str(i)}/energy\", data=energy)\n",
    "            hfile.create_dataset(f\"{str(i)}/ref\", data=ref)\n",
    "            hfile.create_dataset(f\"{str(i)}/trans\", data=trans)\n",
    "            hfile.create_dataset(f\"{str(i)}/fluo\", data=fluo)\n",
    "            hfile.create_dataset(f\"{str(i)}/uid\", data=uid)\n",
    "\n",
    "            hfile.create_dataset(f\"{str(i)}/filename\", data=filename)\n",
    "\n",
    "            result_loaded.append((i,result))\n",
    "        except Exception as e:\n",
    "            result_unable_to_load.append((i,result))\n",
    "            print(f\"{result} failed to load.\")\n",
    "            print(e)\n",
    "            \n",
    "\n"
   ]
  },
  {
   "cell_type": "code",
   "execution_count": null,
   "id": "46b324e4",
   "metadata": {},
   "outputs": [],
   "source": []
  },
  {
   "cell_type": "code",
   "execution_count": null,
   "id": "e7bde1dd",
   "metadata": {},
   "outputs": [],
   "source": []
  }
 ],
 "metadata": {
  "kernelspec": {
   "display_name": "Python 3 (ipykernel)",
   "language": "python",
   "name": "python3"
  },
  "language_info": {
   "codemirror_mode": {
    "name": "ipython",
    "version": 3
   },
   "file_extension": ".py",
   "mimetype": "text/x-python",
   "name": "python",
   "nbconvert_exporter": "python",
   "pygments_lexer": "ipython3",
   "version": "3.7.10"
  }
 },
 "nbformat": 4,
 "nbformat_minor": 5
}
